{
 "cells": [
  {
   "cell_type": "code",
   "execution_count": null,
   "id": "f818cbb5",
   "metadata": {},
   "outputs": [],
   "source": [
    "import pandas as pd\n",
    "import plotly.express as px"
   ]
  },
  {
   "cell_type": "code",
   "execution_count": null,
   "id": "a661db25",
   "metadata": {},
   "outputs": [],
   "source": [
    "car_data = pd.read_csv('vehicles_us.csv') # leer los datos\n",
    "fig = px.histogram(car_data, x=\"odometer\") # crear un histograma\n",
    "fig.show() # crear gráfico de dispersión"
   ]
  },
  {
   "cell_type": "code",
   "execution_count": 45,
   "id": "f660a4aa",
   "metadata": {},
   "outputs": [],
   "source": [
    "import streamlit as st\n",
    "import pandas as pd\n",
    "import numpy as np\n",
    "import plotly.express as px\n",
    "import plotly.subplots as sp\n",
    "import plotly.graph_objects as go\n",
    "import matplotlib.pyplot as plt\n",
    "\n",
    "\n",
    "def draw_graph(df, graph_type, x_line: str, y_line: str = \"\", multi=False):\n",
    "    if multi:\n",
    "        fig = sp.make_subplots(rows=2, cols=1)\n",
    "        ax1=draw_graph(df, 'hist',x_line)\n",
    "        ax2=draw_graph(df, 'scat',x_line,y_line)\n",
    "        fig.add_trace(ax1,row=1, col=1)\n",
    "        fig.add_trace(ax2,row=2, col=1)\n",
    "    else:\n",
    "        if graph_type == 'hist':\n",
    "            fig = px.histogram(df, x=x_line)\n",
    "        else:\n",
    "            fig = px.scatter(df, x=x_line, y=y_line)\n",
    "    return fig\n",
    "\n",
    " \n",
    "def charge_file(url):\n",
    "    return pd.read_csv(url)"
   ]
  },
  {
   "cell_type": "code",
   "execution_count": 11,
   "id": "5046134a",
   "metadata": {},
   "outputs": [],
   "source": [
    "def def_dir(arg):\n",
    "    print(type(arg))\n",
    "    print(dir(arg))\n",
    "    print(arg)"
   ]
  },
  {
   "cell_type": "code",
   "execution_count": 6,
   "id": "2b361bff",
   "metadata": {},
   "outputs": [],
   "source": [
    "url=\"C:/Users/Develop/Documents/Python/proyects/project_7_software_development/files/vehicles_us.csv\"\n",
    "df_vehicle = charge_file(url)"
   ]
  },
  {
   "cell_type": "code",
   "execution_count": 46,
   "id": "450e8a4f",
   "metadata": {},
   "outputs": [
    {
     "ename": "ValueError",
     "evalue": "\n    Invalid element(s) received for the 'data' property of \n        Invalid elements include: [Figure({\n    'data': [{'bingroup': 'x',\n              'hovertemplate': 'odometer=%{x}<br>count=%{y}<extra></extra>',\n              'legendgroup': '',\n              'marker': {'color': '#000001', 'pattern': {'shape': ''}},\n              'name': '',\n              'orientation': 'v',\n              'showlegend': False,\n              'type': 'histogram',\n              'x': {'bdata': ('AAAAAECzAUEAAAAAEKj1QAAAAAAA2/' ... 'AAAABA/0AAAAAAqAkBQQAAAAAAAPh/'),\n                    'dtype': 'f8'},\n              'xaxis': 'x',\n              'yaxis': 'y'}],\n    'layout': {'barmode': 'relative',\n               'legend': {'tracegroupgap': 0},\n               'margin': {'t': 60},\n               'template': '...',\n               'xaxis': {'anchor': 'y', 'domain': [0.0, 1.0], 'title': {'text': 'odometer'}},\n               'yaxis': {'anchor': 'x', 'domain': [0.0, 1.0], 'title': {'text': 'count'}}}\n})]\n\n    The 'data' property is a tuple of trace instances\n    that may be specified as:\n      - A list or tuple of trace instances\n        (e.g. [Scatter(...), Bar(...)])\n      - A single trace instance\n        (e.g. Scatter(...), Bar(...), etc.)\n      - A list or tuple of dicts of string/value properties where:\n        - The 'type' property specifies the trace type\n            One of: ['bar', 'barpolar', 'box', 'candlestick',\n                     'carpet', 'choropleth', 'choroplethmap',\n                     'choroplethmapbox', 'cone', 'contour',\n                     'contourcarpet', 'densitymap',\n                     'densitymapbox', 'funnel', 'funnelarea',\n                     'heatmap', 'histogram', 'histogram2d',\n                     'histogram2dcontour', 'icicle', 'image',\n                     'indicator', 'isosurface', 'mesh3d', 'ohlc',\n                     'parcats', 'parcoords', 'pie', 'sankey',\n                     'scatter', 'scatter3d', 'scattercarpet',\n                     'scattergeo', 'scattergl', 'scattermap',\n                     'scattermapbox', 'scatterpolar',\n                     'scatterpolargl', 'scattersmith',\n                     'scatterternary', 'splom', 'streamtube',\n                     'sunburst', 'surface', 'table', 'treemap',\n                     'violin', 'volume', 'waterfall']\n\n        - All remaining properties are passed to the constructor of\n          the specified trace type\n\n        (e.g. [{'type': 'scatter', ...}, {'type': 'bar, ...}])",
     "output_type": "error",
     "traceback": [
      "\u001b[31m---------------------------------------------------------------------------\u001b[39m",
      "\u001b[31mValueError\u001b[39m                                Traceback (most recent call last)",
      "\u001b[36mCell\u001b[39m\u001b[36m \u001b[39m\u001b[32mIn[46]\u001b[39m\u001b[32m, line 2\u001b[39m\n\u001b[32m      1\u001b[39m \u001b[38;5;66;03m#hist = draw_graph(df_vehicle,'hist','odometer')\u001b[39;00m\n\u001b[32m----> \u001b[39m\u001b[32m2\u001b[39m hist2 = \u001b[43mdraw_graph\u001b[49m\u001b[43m(\u001b[49m\u001b[43mdf_vehicle\u001b[49m\u001b[43m,\u001b[49m\u001b[33;43m'\u001b[39;49m\u001b[33;43m'\u001b[39;49m\u001b[43m,\u001b[49m\u001b[33;43m'\u001b[39;49m\u001b[33;43modometer\u001b[39;49m\u001b[33;43m'\u001b[39;49m\u001b[43m,\u001b[49m\u001b[33;43m'\u001b[39;49m\u001b[33;43modometer\u001b[39;49m\u001b[33;43m'\u001b[39;49m\u001b[43m,\u001b[49m\u001b[38;5;28;43;01mTrue\u001b[39;49;00m\u001b[43m)\u001b[49m\n",
      "\u001b[36mCell\u001b[39m\u001b[36m \u001b[39m\u001b[32mIn[45]\u001b[39m\u001b[32m, line 15\u001b[39m, in \u001b[36mdraw_graph\u001b[39m\u001b[34m(df, graph_type, x_line, y_line, multi)\u001b[39m\n\u001b[32m     13\u001b[39m     ax1=draw_graph(df, \u001b[33m'\u001b[39m\u001b[33mhist\u001b[39m\u001b[33m'\u001b[39m,x_line)\n\u001b[32m     14\u001b[39m     ax2=draw_graph(df, \u001b[33m'\u001b[39m\u001b[33mscat\u001b[39m\u001b[33m'\u001b[39m,x_line,y_line)\n\u001b[32m---> \u001b[39m\u001b[32m15\u001b[39m     \u001b[43mfig\u001b[49m\u001b[43m.\u001b[49m\u001b[43madd_trace\u001b[49m\u001b[43m(\u001b[49m\u001b[43max1\u001b[49m\u001b[43m,\u001b[49m\u001b[43mrow\u001b[49m\u001b[43m=\u001b[49m\u001b[32;43m1\u001b[39;49m\u001b[43m,\u001b[49m\u001b[43m \u001b[49m\u001b[43mcol\u001b[49m\u001b[43m=\u001b[49m\u001b[32;43m1\u001b[39;49m\u001b[43m)\u001b[49m\n\u001b[32m     16\u001b[39m     fig.add_trace(ax2,row=\u001b[32m2\u001b[39m, col=\u001b[32m1\u001b[39m)\n\u001b[32m     17\u001b[39m \u001b[38;5;28;01melse\u001b[39;00m:\n",
      "\u001b[36mFile \u001b[39m\u001b[32mc:\\Users\\Develop\\AppData\\Local\\Programs\\Python\\Python313\\Lib\\site-packages\\plotly\\graph_objs\\_figure.py:912\u001b[39m, in \u001b[36mFigure.add_trace\u001b[39m\u001b[34m(self, trace, row, col, secondary_y, exclude_empty_subplots)\u001b[39m\n\u001b[32m    837\u001b[39m \u001b[38;5;28;01mdef\u001b[39;00m\u001b[38;5;250m \u001b[39m\u001b[34madd_trace\u001b[39m(\n\u001b[32m    838\u001b[39m     \u001b[38;5;28mself\u001b[39m, trace, row=\u001b[38;5;28;01mNone\u001b[39;00m, col=\u001b[38;5;28;01mNone\u001b[39;00m, secondary_y=\u001b[38;5;28;01mNone\u001b[39;00m, exclude_empty_subplots=\u001b[38;5;28;01mFalse\u001b[39;00m\n\u001b[32m    839\u001b[39m ) -> \u001b[33m\"\u001b[39m\u001b[33mFigure\u001b[39m\u001b[33m\"\u001b[39m:\n\u001b[32m    840\u001b[39m \u001b[38;5;250m    \u001b[39m\u001b[33;03m\"\"\"\u001b[39;00m\n\u001b[32m    841\u001b[39m \n\u001b[32m    842\u001b[39m \u001b[33;03m    Add a trace to the figure\u001b[39;00m\n\u001b[32m   (...)\u001b[39m\u001b[32m    910\u001b[39m \n\u001b[32m    911\u001b[39m \u001b[33;03m    \"\"\"\u001b[39;00m\n\u001b[32m--> \u001b[39m\u001b[32m912\u001b[39m     \u001b[38;5;28;01mreturn\u001b[39;00m \u001b[38;5;28;43msuper\u001b[39;49m\u001b[43m(\u001b[49m\u001b[43mFigure\u001b[49m\u001b[43m,\u001b[49m\u001b[43m \u001b[49m\u001b[38;5;28;43mself\u001b[39;49m\u001b[43m)\u001b[49m\u001b[43m.\u001b[49m\u001b[43madd_trace\u001b[49m\u001b[43m(\u001b[49m\n\u001b[32m    913\u001b[39m \u001b[43m        \u001b[49m\u001b[43mtrace\u001b[49m\u001b[43m,\u001b[49m\u001b[43m \u001b[49m\u001b[43mrow\u001b[49m\u001b[43m,\u001b[49m\u001b[43m \u001b[49m\u001b[43mcol\u001b[49m\u001b[43m,\u001b[49m\u001b[43m \u001b[49m\u001b[43msecondary_y\u001b[49m\u001b[43m,\u001b[49m\u001b[43m \u001b[49m\u001b[43mexclude_empty_subplots\u001b[49m\n\u001b[32m    914\u001b[39m \u001b[43m    \u001b[49m\u001b[43m)\u001b[49m\n",
      "\u001b[36mFile \u001b[39m\u001b[32mc:\\Users\\Develop\\AppData\\Local\\Programs\\Python\\Python313\\Lib\\site-packages\\plotly\\basedatatypes.py:2107\u001b[39m, in \u001b[36mBaseFigure.add_trace\u001b[39m\u001b[34m(self, trace, row, col, secondary_y, exclude_empty_subplots)\u001b[39m\n\u001b[32m   2098\u001b[39m         \u001b[38;5;28mself\u001b[39m.add_trace(\n\u001b[32m   2099\u001b[39m             trace,\n\u001b[32m   2100\u001b[39m             row=r,\n\u001b[32m   (...)\u001b[39m\u001b[32m   2103\u001b[39m             exclude_empty_subplots=exclude_empty_subplots,\n\u001b[32m   2104\u001b[39m         )\n\u001b[32m   2105\u001b[39m     \u001b[38;5;28;01mreturn\u001b[39;00m \u001b[38;5;28mself\u001b[39m\n\u001b[32m-> \u001b[39m\u001b[32m2107\u001b[39m \u001b[38;5;28;01mreturn\u001b[39;00m \u001b[38;5;28;43mself\u001b[39;49m\u001b[43m.\u001b[49m\u001b[43madd_traces\u001b[49m\u001b[43m(\u001b[49m\n\u001b[32m   2108\u001b[39m \u001b[43m    \u001b[49m\u001b[43mdata\u001b[49m\u001b[43m=\u001b[49m\u001b[43m[\u001b[49m\u001b[43mtrace\u001b[49m\u001b[43m]\u001b[49m\u001b[43m,\u001b[49m\n\u001b[32m   2109\u001b[39m \u001b[43m    \u001b[49m\u001b[43mrows\u001b[49m\u001b[43m=\u001b[49m\u001b[43m[\u001b[49m\u001b[43mrow\u001b[49m\u001b[43m]\u001b[49m\u001b[43m \u001b[49m\u001b[38;5;28;43;01mif\u001b[39;49;00m\u001b[43m \u001b[49m\u001b[43mrow\u001b[49m\u001b[43m \u001b[49m\u001b[38;5;129;43;01mis\u001b[39;49;00m\u001b[43m \u001b[49m\u001b[38;5;129;43;01mnot\u001b[39;49;00m\u001b[43m \u001b[49m\u001b[38;5;28;43;01mNone\u001b[39;49;00m\u001b[43m \u001b[49m\u001b[38;5;28;43;01melse\u001b[39;49;00m\u001b[43m \u001b[49m\u001b[38;5;28;43;01mNone\u001b[39;49;00m\u001b[43m,\u001b[49m\n\u001b[32m   2110\u001b[39m \u001b[43m    \u001b[49m\u001b[43mcols\u001b[49m\u001b[43m=\u001b[49m\u001b[43m[\u001b[49m\u001b[43mcol\u001b[49m\u001b[43m]\u001b[49m\u001b[43m \u001b[49m\u001b[38;5;28;43;01mif\u001b[39;49;00m\u001b[43m \u001b[49m\u001b[43mcol\u001b[49m\u001b[43m \u001b[49m\u001b[38;5;129;43;01mis\u001b[39;49;00m\u001b[43m \u001b[49m\u001b[38;5;129;43;01mnot\u001b[39;49;00m\u001b[43m \u001b[49m\u001b[38;5;28;43;01mNone\u001b[39;49;00m\u001b[43m \u001b[49m\u001b[38;5;28;43;01melse\u001b[39;49;00m\u001b[43m \u001b[49m\u001b[38;5;28;43;01mNone\u001b[39;49;00m\u001b[43m,\u001b[49m\n\u001b[32m   2111\u001b[39m \u001b[43m    \u001b[49m\u001b[43msecondary_ys\u001b[49m\u001b[43m=\u001b[49m\u001b[43m[\u001b[49m\u001b[43msecondary_y\u001b[49m\u001b[43m]\u001b[49m\u001b[43m \u001b[49m\u001b[38;5;28;43;01mif\u001b[39;49;00m\u001b[43m \u001b[49m\u001b[43msecondary_y\u001b[49m\u001b[43m \u001b[49m\u001b[38;5;129;43;01mis\u001b[39;49;00m\u001b[43m \u001b[49m\u001b[38;5;129;43;01mnot\u001b[39;49;00m\u001b[43m \u001b[49m\u001b[38;5;28;43;01mNone\u001b[39;49;00m\u001b[43m \u001b[49m\u001b[38;5;28;43;01melse\u001b[39;49;00m\u001b[43m \u001b[49m\u001b[38;5;28;43;01mNone\u001b[39;49;00m\u001b[43m,\u001b[49m\n\u001b[32m   2112\u001b[39m \u001b[43m    \u001b[49m\u001b[43mexclude_empty_subplots\u001b[49m\u001b[43m=\u001b[49m\u001b[43mexclude_empty_subplots\u001b[49m\u001b[43m,\u001b[49m\n\u001b[32m   2113\u001b[39m \u001b[43m\u001b[49m\u001b[43m)\u001b[49m\n",
      "\u001b[36mFile \u001b[39m\u001b[32mc:\\Users\\Develop\\AppData\\Local\\Programs\\Python\\Python313\\Lib\\site-packages\\plotly\\graph_objs\\_figure.py:992\u001b[39m, in \u001b[36mFigure.add_traces\u001b[39m\u001b[34m(self, data, rows, cols, secondary_ys, exclude_empty_subplots)\u001b[39m\n\u001b[32m    916\u001b[39m \u001b[38;5;28;01mdef\u001b[39;00m\u001b[38;5;250m \u001b[39m\u001b[34madd_traces\u001b[39m(\n\u001b[32m    917\u001b[39m     \u001b[38;5;28mself\u001b[39m,\n\u001b[32m    918\u001b[39m     data,\n\u001b[32m   (...)\u001b[39m\u001b[32m    922\u001b[39m     exclude_empty_subplots=\u001b[38;5;28;01mFalse\u001b[39;00m,\n\u001b[32m    923\u001b[39m ) -> \u001b[33m\"\u001b[39m\u001b[33mFigure\u001b[39m\u001b[33m\"\u001b[39m:\n\u001b[32m    924\u001b[39m \u001b[38;5;250m    \u001b[39m\u001b[33;03m\"\"\"\u001b[39;00m\n\u001b[32m    925\u001b[39m \n\u001b[32m    926\u001b[39m \u001b[33;03m    Add traces to the figure\u001b[39;00m\n\u001b[32m   (...)\u001b[39m\u001b[32m    990\u001b[39m \n\u001b[32m    991\u001b[39m \u001b[33;03m    \"\"\"\u001b[39;00m\n\u001b[32m--> \u001b[39m\u001b[32m992\u001b[39m     \u001b[38;5;28;01mreturn\u001b[39;00m \u001b[38;5;28;43msuper\u001b[39;49m\u001b[43m(\u001b[49m\u001b[43mFigure\u001b[49m\u001b[43m,\u001b[49m\u001b[43m \u001b[49m\u001b[38;5;28;43mself\u001b[39;49m\u001b[43m)\u001b[49m\u001b[43m.\u001b[49m\u001b[43madd_traces\u001b[49m\u001b[43m(\u001b[49m\n\u001b[32m    993\u001b[39m \u001b[43m        \u001b[49m\u001b[43mdata\u001b[49m\u001b[43m,\u001b[49m\u001b[43m \u001b[49m\u001b[43mrows\u001b[49m\u001b[43m,\u001b[49m\u001b[43m \u001b[49m\u001b[43mcols\u001b[49m\u001b[43m,\u001b[49m\u001b[43m \u001b[49m\u001b[43msecondary_ys\u001b[49m\u001b[43m,\u001b[49m\u001b[43m \u001b[49m\u001b[43mexclude_empty_subplots\u001b[49m\n\u001b[32m    994\u001b[39m \u001b[43m    \u001b[49m\u001b[43m)\u001b[49m\n",
      "\u001b[36mFile \u001b[39m\u001b[32mc:\\Users\\Develop\\AppData\\Local\\Programs\\Python\\Python313\\Lib\\site-packages\\plotly\\basedatatypes.py:2191\u001b[39m, in \u001b[36mBaseFigure.add_traces\u001b[39m\u001b[34m(self, data, rows, cols, secondary_ys, exclude_empty_subplots)\u001b[39m\n\u001b[32m   2123\u001b[39m \u001b[38;5;250m\u001b[39m\u001b[33;03m\"\"\"\u001b[39;00m\n\u001b[32m   2124\u001b[39m \u001b[33;03mAdd traces to the figure\u001b[39;00m\n\u001b[32m   2125\u001b[39m \n\u001b[32m   (...)\u001b[39m\u001b[32m   2187\u001b[39m \u001b[33;03mFigure(...)\u001b[39;00m\n\u001b[32m   2188\u001b[39m \u001b[33;03m\"\"\"\u001b[39;00m\n\u001b[32m   2190\u001b[39m \u001b[38;5;66;03m# Validate traces\u001b[39;00m\n\u001b[32m-> \u001b[39m\u001b[32m2191\u001b[39m data = \u001b[38;5;28;43mself\u001b[39;49m\u001b[43m.\u001b[49m\u001b[43m_data_validator\u001b[49m\u001b[43m.\u001b[49m\u001b[43mvalidate_coerce\u001b[49m\u001b[43m(\u001b[49m\u001b[43mdata\u001b[49m\u001b[43m)\u001b[49m\n\u001b[32m   2193\u001b[39m \u001b[38;5;66;03m# Set trace indexes\u001b[39;00m\n\u001b[32m   2194\u001b[39m \u001b[38;5;28;01mfor\u001b[39;00m ind, new_trace \u001b[38;5;129;01min\u001b[39;00m \u001b[38;5;28menumerate\u001b[39m(data):\n",
      "\u001b[36mFile \u001b[39m\u001b[32mc:\\Users\\Develop\\AppData\\Local\\Programs\\Python\\Python313\\Lib\\site-packages\\_plotly_utils\\basevalidators.py:2731\u001b[39m, in \u001b[36mBaseDataValidator.validate_coerce\u001b[39m\u001b[34m(self, v, skip_invalid, _validate)\u001b[39m\n\u001b[32m   2728\u001b[39m             invalid_els.append(v_el)\n\u001b[32m   2730\u001b[39m \u001b[38;5;28;01mif\u001b[39;00m invalid_els:\n\u001b[32m-> \u001b[39m\u001b[32m2731\u001b[39m     \u001b[38;5;28;43mself\u001b[39;49m\u001b[43m.\u001b[49m\u001b[43mraise_invalid_elements\u001b[49m\u001b[43m(\u001b[49m\u001b[43minvalid_els\u001b[49m\u001b[43m)\u001b[49m\n\u001b[32m   2733\u001b[39m v = to_scalar_or_list(res)\n\u001b[32m   2735\u001b[39m \u001b[38;5;66;03m# Set new UIDs\u001b[39;00m\n",
      "\u001b[36mFile \u001b[39m\u001b[32mc:\\Users\\Develop\\AppData\\Local\\Programs\\Python\\Python313\\Lib\\site-packages\\_plotly_utils\\basevalidators.py:315\u001b[39m, in \u001b[36mBaseValidator.raise_invalid_elements\u001b[39m\u001b[34m(self, invalid_els)\u001b[39m\n\u001b[32m    313\u001b[39m     \u001b[38;5;28;01mdef\u001b[39;00m\u001b[38;5;250m \u001b[39m\u001b[34mraise_invalid_elements\u001b[39m(\u001b[38;5;28mself\u001b[39m, invalid_els):\n\u001b[32m    314\u001b[39m         \u001b[38;5;28;01mif\u001b[39;00m invalid_els:\n\u001b[32m--> \u001b[39m\u001b[32m315\u001b[39m             \u001b[38;5;28;01mraise\u001b[39;00m \u001b[38;5;167;01mValueError\u001b[39;00m(\n\u001b[32m    316\u001b[39m \u001b[38;5;250m                \u001b[39m\u001b[33;03m\"\"\"\u001b[39;00m\n\u001b[32m    317\u001b[39m \u001b[33;03m    Invalid element(s) received for the '{name}' property of {pname}\u001b[39;00m\n\u001b[32m    318\u001b[39m \u001b[33;03m        Invalid elements include: {invalid}\u001b[39;00m\n\u001b[32m    319\u001b[39m \n\u001b[32m    320\u001b[39m \u001b[33;03m{valid_clr_desc}\"\"\"\u001b[39;00m.format(\n\u001b[32m    321\u001b[39m                     name=\u001b[38;5;28mself\u001b[39m.plotly_name,\n\u001b[32m    322\u001b[39m                     pname=\u001b[38;5;28mself\u001b[39m.parent_name,\n\u001b[32m    323\u001b[39m                     invalid=invalid_els[:\u001b[32m10\u001b[39m],\n\u001b[32m    324\u001b[39m                     valid_clr_desc=\u001b[38;5;28mself\u001b[39m.description(),\n\u001b[32m    325\u001b[39m                 )\n\u001b[32m    326\u001b[39m             )\n",
      "\u001b[31mValueError\u001b[39m: \n    Invalid element(s) received for the 'data' property of \n        Invalid elements include: [Figure({\n    'data': [{'bingroup': 'x',\n              'hovertemplate': 'odometer=%{x}<br>count=%{y}<extra></extra>',\n              'legendgroup': '',\n              'marker': {'color': '#000001', 'pattern': {'shape': ''}},\n              'name': '',\n              'orientation': 'v',\n              'showlegend': False,\n              'type': 'histogram',\n              'x': {'bdata': ('AAAAAECzAUEAAAAAEKj1QAAAAAAA2/' ... 'AAAABA/0AAAAAAqAkBQQAAAAAAAPh/'),\n                    'dtype': 'f8'},\n              'xaxis': 'x',\n              'yaxis': 'y'}],\n    'layout': {'barmode': 'relative',\n               'legend': {'tracegroupgap': 0},\n               'margin': {'t': 60},\n               'template': '...',\n               'xaxis': {'anchor': 'y', 'domain': [0.0, 1.0], 'title': {'text': 'odometer'}},\n               'yaxis': {'anchor': 'x', 'domain': [0.0, 1.0], 'title': {'text': 'count'}}}\n})]\n\n    The 'data' property is a tuple of trace instances\n    that may be specified as:\n      - A list or tuple of trace instances\n        (e.g. [Scatter(...), Bar(...)])\n      - A single trace instance\n        (e.g. Scatter(...), Bar(...), etc.)\n      - A list or tuple of dicts of string/value properties where:\n        - The 'type' property specifies the trace type\n            One of: ['bar', 'barpolar', 'box', 'candlestick',\n                     'carpet', 'choropleth', 'choroplethmap',\n                     'choroplethmapbox', 'cone', 'contour',\n                     'contourcarpet', 'densitymap',\n                     'densitymapbox', 'funnel', 'funnelarea',\n                     'heatmap', 'histogram', 'histogram2d',\n                     'histogram2dcontour', 'icicle', 'image',\n                     'indicator', 'isosurface', 'mesh3d', 'ohlc',\n                     'parcats', 'parcoords', 'pie', 'sankey',\n                     'scatter', 'scatter3d', 'scattercarpet',\n                     'scattergeo', 'scattergl', 'scattermap',\n                     'scattermapbox', 'scatterpolar',\n                     'scatterpolargl', 'scattersmith',\n                     'scatterternary', 'splom', 'streamtube',\n                     'sunburst', 'surface', 'table', 'treemap',\n                     'violin', 'volume', 'waterfall']\n\n        - All remaining properties are passed to the constructor of\n          the specified trace type\n\n        (e.g. [{'type': 'scatter', ...}, {'type': 'bar, ...}])"
     ]
    }
   ],
   "source": [
    "#hist = draw_graph(df_vehicle,'hist','odometer')\n",
    "hist2 = draw_graph(df_vehicle,'','odometer','odometer',True)\n",
    "   "
   ]
  },
  {
   "cell_type": "code",
   "execution_count": 43,
   "id": "77210dca",
   "metadata": {},
   "outputs": [
    {
     "name": "stdout",
     "output_type": "stream",
     "text": [
      "<class 'tuple'>\n",
      "['__add__', '__class__', '__class_getitem__', '__contains__', '__delattr__', '__dir__', '__doc__', '__eq__', '__format__', '__ge__', '__getattribute__', '__getitem__', '__getnewargs__', '__getstate__', '__gt__', '__hash__', '__init__', '__init_subclass__', '__iter__', '__le__', '__len__', '__lt__', '__mul__', '__ne__', '__new__', '__reduce__', '__reduce_ex__', '__repr__', '__rmul__', '__setattr__', '__sizeof__', '__str__', '__subclasshook__', 'count', 'index']\n",
      "(Histogram({\n",
      "    'bingroup': 'x',\n",
      "    'hovertemplate': 'odometer=%{x}<br>count=%{y}<extra></extra>',\n",
      "    'legendgroup': '',\n",
      "    'marker': {'color': '#000001', 'pattern': {'shape': ''}},\n",
      "    'name': '',\n",
      "    'orientation': 'v',\n",
      "    'showlegend': False,\n",
      "    'x': array([145000.,  88705., 110000., ..., 128000., 139573.,     nan],\n",
      "               shape=(51525,)),\n",
      "    'xaxis': 'x',\n",
      "    'yaxis': 'y'\n",
      "}),)\n"
     ]
    }
   ],
   "source": [
    "def_dir(hist.data)\n",
    "\n",
    "#def_dir(hist2)"
   ]
  }
 ],
 "metadata": {
  "kernelspec": {
   "display_name": "Python 3",
   "language": "python",
   "name": "python3"
  },
  "language_info": {
   "codemirror_mode": {
    "name": "ipython",
    "version": 3
   },
   "file_extension": ".py",
   "mimetype": "text/x-python",
   "name": "python",
   "nbconvert_exporter": "python",
   "pygments_lexer": "ipython3",
   "version": "3.13.2"
  }
 },
 "nbformat": 4,
 "nbformat_minor": 5
}
